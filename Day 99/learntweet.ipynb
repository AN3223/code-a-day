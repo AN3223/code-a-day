{
 "cells": [
  {
   "cell_type": "code",
   "execution_count": 1,
   "metadata": {},
   "outputs": [],
   "source": [
    "from sklearn.feature_extraction.text import TfidfTransformer\n",
    "from sklearn.feature_extraction.text import HashingVectorizer\n",
    "from sklearn.metrics import classification_report\n",
    "from sklearn.linear_model import SGDClassifier\n",
    "from sklearn.pipeline import Pipeline\n",
    "from sklearn.svm import SVC\n",
    "\n",
    "from random import shuffle\n",
    "import numpy as np"
   ]
  },
  {
   "cell_type": "code",
   "execution_count": 2,
   "metadata": {},
   "outputs": [],
   "source": [
    "clf = Pipeline([\n",
    "    ('vect', HashingVectorizer(alternate_sign=True)),\n",
    "    ('tfidf', TfidfTransformer()),\n",
    "    ('clf', SGDClassifier(max_iter=1000, tol=1e-3))\n",
    "])"
   ]
  },
  {
   "cell_type": "code",
   "execution_count": 3,
   "metadata": {},
   "outputs": [],
   "source": [
    "dataset = {\"data\": [], \"target\": []}\n",
    "test_dataset = {\"data\": [], \"target\": []}\n",
    "target_names = [\n",
    "    'codinghorror', 'dennybritz', 'iamtrask', 'sirajraval'\n",
    "]"
   ]
  },
  {
   "cell_type": "code",
   "execution_count": 4,
   "metadata": {},
   "outputs": [],
   "source": [
    "for c, user in enumerate(target_names):\n",
    "    with open(f'data/{user}_tweets.txt') as f:\n",
    "        tweets = f.read().split('\\n---\\n')\n",
    "        shuffle(tweets)\n",
    "        \n",
    "        test_tweets = tweets[:30]\n",
    "        train_tweets = tweets[30:]\n",
    "        \n",
    "        dataset[\"data\"].extend(train_tweets)\n",
    "        test_dataset[\"data\"].extend(test_tweets)\n",
    "        \n",
    "    dataset[\"target\"].extend([c for _ in train_tweets])\n",
    "    test_dataset[\"target\"].extend([c for _ in test_tweets])"
   ]
  },
  {
   "cell_type": "code",
   "execution_count": 5,
   "metadata": {},
   "outputs": [
    {
     "data": {
      "text/plain": [
       "Pipeline(memory=None,\n",
       "     steps=[('vect', HashingVectorizer(alternate_sign=True, analyzer='word', binary=False,\n",
       "         decode_error='strict', dtype=<class 'numpy.float64'>,\n",
       "         encoding='utf-8', input='content', lowercase=True,\n",
       "         n_features=1048576, ngram_range=(1, 1), non_negative=False,\n",
       "         norm='l2', pr...'l2', power_t=0.5, random_state=None,\n",
       "       shuffle=True, tol=0.001, verbose=0, warm_start=False))])"
      ]
     },
     "execution_count": 5,
     "metadata": {},
     "output_type": "execute_result"
    }
   ],
   "source": [
    "clf.fit(dataset[\"data\"], dataset[\"target\"])"
   ]
  },
  {
   "cell_type": "code",
   "execution_count": 6,
   "metadata": {},
   "outputs": [
    {
     "name": "stdout",
     "output_type": "stream",
     "text": [
      "              precision    recall  f1-score   support\n",
      "\n",
      "codinghorror       0.88      0.50      0.64        30\n",
      "  dennybritz       0.72      0.70      0.71        30\n",
      "    iamtrask       0.61      0.90      0.73        30\n",
      "  sirajraval       0.77      0.77      0.77        30\n",
      "\n",
      " avg / total       0.75      0.72      0.71       120\n",
      "\n"
     ]
    }
   ],
   "source": [
    "prediction = clf.predict(test_dataset[\"data\"])\n",
    "\n",
    "print(\n",
    "    classification_report(\n",
    "        np.array(test_dataset[\"target\"]), \n",
    "        prediction, target_names=target_names\n",
    "    )\n",
    ")"
   ]
  },
  {
   "cell_type": "code",
   "execution_count": 7,
   "metadata": {},
   "outputs": [],
   "source": [
    "from sklearn.model_selection import GridSearchCV\n",
    "\n",
    "params = {\n",
    "    'vect__lowercase': (True, False),\n",
    "    'tfidf__use_idf': (True, False),\n",
    "}"
   ]
  },
  {
   "cell_type": "code",
   "execution_count": 8,
   "metadata": {},
   "outputs": [],
   "source": [
    "gs_clf = GridSearchCV(clf, params, cv=5, n_jobs=-1)\n",
    "gs_clf = gs_clf.fit(dataset[\"data\"], dataset[\"target\"])"
   ]
  },
  {
   "cell_type": "code",
   "execution_count": 9,
   "metadata": {},
   "outputs": [
    {
     "data": {
      "text/plain": [
       "{'tfidf__use_idf': True, 'vect__lowercase': True}"
      ]
     },
     "execution_count": 9,
     "metadata": {},
     "output_type": "execute_result"
    }
   ],
   "source": [
    "gs_clf.best_params_"
   ]
  },
  {
   "cell_type": "code",
   "execution_count": null,
   "metadata": {},
   "outputs": [],
   "source": []
  }
 ],
 "metadata": {
  "kernelspec": {
   "display_name": "Python 3",
   "language": "python",
   "name": "python3"
  },
  "language_info": {
   "codemirror_mode": {
    "name": "ipython",
    "version": 3
   },
   "file_extension": ".py",
   "mimetype": "text/x-python",
   "name": "python",
   "nbconvert_exporter": "python",
   "pygments_lexer": "ipython3",
   "version": "3.6.3"
  }
 },
 "nbformat": 4,
 "nbformat_minor": 2
}
