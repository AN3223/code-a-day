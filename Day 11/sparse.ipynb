{
 "cells": [
  {
   "cell_type": "code",
   "execution_count": 1,
   "metadata": {},
   "outputs": [],
   "source": [
    "import pandas as pd\n",
    "from pympler.asizeof import asizeof\n",
    "import numpy as np"
   ]
  },
  {
   "cell_type": "code",
   "execution_count": 2,
   "metadata": {},
   "outputs": [],
   "source": [
    "df1 = pd.DataFrame(\n",
    "    {\n",
    "        \"A\": [1,2,3,4,5],\n",
    "        \"B\": [-1,-2,-3,-4,-5]\n",
    "    }\n",
    ")"
   ]
  },
  {
   "cell_type": "code",
   "execution_count": 3,
   "metadata": {},
   "outputs": [],
   "source": [
    "df2 = pd.DataFrame(\n",
    "    {\n",
    "        \"C\": [10,20,30,40,50]\n",
    "    }\n",
    ")"
   ]
  },
  {
   "cell_type": "code",
   "execution_count": 4,
   "metadata": {},
   "outputs": [
    {
     "data": {
      "text/html": [
       "<div>\n",
       "<style scoped>\n",
       "    .dataframe tbody tr th:only-of-type {\n",
       "        vertical-align: middle;\n",
       "    }\n",
       "\n",
       "    .dataframe tbody tr th {\n",
       "        vertical-align: top;\n",
       "    }\n",
       "\n",
       "    .dataframe thead th {\n",
       "        text-align: right;\n",
       "    }\n",
       "</style>\n",
       "<table border=\"1\" class=\"dataframe\">\n",
       "  <thead>\n",
       "    <tr style=\"text-align: right;\">\n",
       "      <th></th>\n",
       "      <th>A</th>\n",
       "      <th>B</th>\n",
       "      <th>C</th>\n",
       "    </tr>\n",
       "  </thead>\n",
       "  <tbody>\n",
       "    <tr>\n",
       "      <th>0</th>\n",
       "      <td>1</td>\n",
       "      <td>-1</td>\n",
       "      <td>10</td>\n",
       "    </tr>\n",
       "    <tr>\n",
       "      <th>1</th>\n",
       "      <td>2</td>\n",
       "      <td>-2</td>\n",
       "      <td>20</td>\n",
       "    </tr>\n",
       "    <tr>\n",
       "      <th>2</th>\n",
       "      <td>3</td>\n",
       "      <td>-3</td>\n",
       "      <td>30</td>\n",
       "    </tr>\n",
       "    <tr>\n",
       "      <th>3</th>\n",
       "      <td>4</td>\n",
       "      <td>-4</td>\n",
       "      <td>40</td>\n",
       "    </tr>\n",
       "    <tr>\n",
       "      <th>4</th>\n",
       "      <td>5</td>\n",
       "      <td>-5</td>\n",
       "      <td>50</td>\n",
       "    </tr>\n",
       "  </tbody>\n",
       "</table>\n",
       "</div>"
      ],
      "text/plain": [
       "   A  B   C\n",
       "0  1 -1  10\n",
       "1  2 -2  20\n",
       "2  3 -3  30\n",
       "3  4 -4  40\n",
       "4  5 -5  50"
      ]
     },
     "execution_count": 4,
     "metadata": {},
     "output_type": "execute_result"
    }
   ],
   "source": [
    "df1.join(df2)\n",
    "# Basic join operation"
   ]
  },
  {
   "cell_type": "code",
   "execution_count": 5,
   "metadata": {},
   "outputs": [],
   "source": [
    "df = pd.read_csv('nbl.csv')"
   ]
  },
  {
   "cell_type": "code",
   "execution_count": 6,
   "metadata": {},
   "outputs": [],
   "source": [
    "stat_df = pd.DataFrame(\n",
    "    {\n",
    "        \"Size\": [],\n",
    "        \"Alteration\": []\n",
    "    }\n",
    ")\n",
    "stat_append = lambda x: stat_df.append({\"Size\": asizeof(df), \"Alteration\": x}, ignore_index=True)\n",
    "stat_df = stat_append(np.nan)"
   ]
  },
  {
   "cell_type": "code",
   "execution_count": 7,
   "metadata": {},
   "outputs": [
    {
     "data": {
      "text/html": [
       "<div>\n",
       "<style scoped>\n",
       "    .dataframe tbody tr th:only-of-type {\n",
       "        vertical-align: middle;\n",
       "    }\n",
       "\n",
       "    .dataframe tbody tr th {\n",
       "        vertical-align: top;\n",
       "    }\n",
       "\n",
       "    .dataframe thead th {\n",
       "        text-align: right;\n",
       "    }\n",
       "</style>\n",
       "<table border=\"1\" class=\"dataframe\">\n",
       "  <thead>\n",
       "    <tr style=\"text-align: right;\">\n",
       "      <th></th>\n",
       "      <th>Registry Number</th>\n",
       "      <th>Business Name</th>\n",
       "      <th>Entity Type</th>\n",
       "      <th>Registry Date</th>\n",
       "      <th>Associated Name Type</th>\n",
       "      <th>First Name</th>\n",
       "      <th>Middle Name</th>\n",
       "      <th>Last Name</th>\n",
       "      <th>Suffix</th>\n",
       "      <th>Not of Record Entity</th>\n",
       "      <th>Entity of Record Reg Number</th>\n",
       "      <th>Entity of Record Name</th>\n",
       "      <th>Address</th>\n",
       "      <th>Address Continued</th>\n",
       "      <th>City</th>\n",
       "      <th>State</th>\n",
       "      <th>Zip Code</th>\n",
       "    </tr>\n",
       "  </thead>\n",
       "  <tbody>\n",
       "    <tr>\n",
       "      <th>0</th>\n",
       "      <td>132996497</td>\n",
       "      <td>2095 LAURA STREET, LLC</td>\n",
       "      <td>DOMESTIC LIMITED LIABILITY COMPANY</td>\n",
       "      <td>06/01/2017</td>\n",
       "      <td>REGISTERED AGENT</td>\n",
       "      <td>THOMAS</td>\n",
       "      <td>J</td>\n",
       "      <td>SAYEG</td>\n",
       "      <td>NaN</td>\n",
       "      <td>NaN</td>\n",
       "      <td>NaN</td>\n",
       "      <td>NaN</td>\n",
       "      <td>360 SW BOND ST STE 400</td>\n",
       "      <td>NaN</td>\n",
       "      <td>BEND</td>\n",
       "      <td>OR</td>\n",
       "      <td>97702</td>\n",
       "    </tr>\n",
       "    <tr>\n",
       "      <th>1</th>\n",
       "      <td>132984691</td>\n",
       "      <td>506GRAND LLC</td>\n",
       "      <td>DOMESTIC LIMITED LIABILITY COMPANY</td>\n",
       "      <td>06/01/2017</td>\n",
       "      <td>MAILING ADDRESS</td>\n",
       "      <td>CHARLES</td>\n",
       "      <td>E</td>\n",
       "      <td>HARRELL</td>\n",
       "      <td>NaN</td>\n",
       "      <td>NaN</td>\n",
       "      <td>NaN</td>\n",
       "      <td>NaN</td>\n",
       "      <td>THE HARRELL LAW FIRM, LLC</td>\n",
       "      <td>11560 SW 67TH AVE STE 353E</td>\n",
       "      <td>PORTLAND</td>\n",
       "      <td>OR</td>\n",
       "      <td>97223</td>\n",
       "    </tr>\n",
       "    <tr>\n",
       "      <th>2</th>\n",
       "      <td>132984691</td>\n",
       "      <td>506GRAND LLC</td>\n",
       "      <td>DOMESTIC LIMITED LIABILITY COMPANY</td>\n",
       "      <td>06/01/2017</td>\n",
       "      <td>REGISTERED AGENT</td>\n",
       "      <td>NaN</td>\n",
       "      <td>NaN</td>\n",
       "      <td>NaN</td>\n",
       "      <td>NaN</td>\n",
       "      <td>NaN</td>\n",
       "      <td>120151394.0</td>\n",
       "      <td>THE HARRELL LAW FIRM, LLC</td>\n",
       "      <td>11560 SW 67TH AVE STE 353E</td>\n",
       "      <td>NaN</td>\n",
       "      <td>PORTLAND</td>\n",
       "      <td>OR</td>\n",
       "      <td>97223</td>\n",
       "    </tr>\n",
       "    <tr>\n",
       "      <th>3</th>\n",
       "      <td>132988890</td>\n",
       "      <td>7+, INC.</td>\n",
       "      <td>DOMESTIC BUSINESS CORPORATION</td>\n",
       "      <td>06/01/2017</td>\n",
       "      <td>REGISTERED AGENT</td>\n",
       "      <td>PAUL</td>\n",
       "      <td>NaN</td>\n",
       "      <td>SAMINTO</td>\n",
       "      <td>NaN</td>\n",
       "      <td>NaN</td>\n",
       "      <td>NaN</td>\n",
       "      <td>NaN</td>\n",
       "      <td>516 SW 4TH ST</td>\n",
       "      <td>NaN</td>\n",
       "      <td>CORVALLIS</td>\n",
       "      <td>OR</td>\n",
       "      <td>97333</td>\n",
       "    </tr>\n",
       "    <tr>\n",
       "      <th>4</th>\n",
       "      <td>133007997</td>\n",
       "      <td>ABS HEALTHCARE SERVICES, LLC</td>\n",
       "      <td>FOREIGN LIMITED LIABILITY COMPANY</td>\n",
       "      <td>06/01/2017</td>\n",
       "      <td>MAILING ADDRESS</td>\n",
       "      <td>NaN</td>\n",
       "      <td>NaN</td>\n",
       "      <td>NaN</td>\n",
       "      <td>NaN</td>\n",
       "      <td>NaN</td>\n",
       "      <td>NaN</td>\n",
       "      <td>NaN</td>\n",
       "      <td>1002 E NEWPORT CENTER DR STE 200</td>\n",
       "      <td>NaN</td>\n",
       "      <td>DEERFIELD BEACH</td>\n",
       "      <td>FL</td>\n",
       "      <td>33442</td>\n",
       "    </tr>\n",
       "  </tbody>\n",
       "</table>\n",
       "</div>"
      ],
      "text/plain": [
       "   Registry Number                 Business Name  \\\n",
       "0        132996497        2095 LAURA STREET, LLC   \n",
       "1        132984691                  506GRAND LLC   \n",
       "2        132984691                  506GRAND LLC   \n",
       "3        132988890                      7+, INC.   \n",
       "4        133007997  ABS HEALTHCARE SERVICES, LLC   \n",
       "\n",
       "                          Entity Type Registry Date Associated Name Type  \\\n",
       "0  DOMESTIC LIMITED LIABILITY COMPANY    06/01/2017     REGISTERED AGENT   \n",
       "1  DOMESTIC LIMITED LIABILITY COMPANY    06/01/2017      MAILING ADDRESS   \n",
       "2  DOMESTIC LIMITED LIABILITY COMPANY    06/01/2017     REGISTERED AGENT   \n",
       "3       DOMESTIC BUSINESS CORPORATION    06/01/2017     REGISTERED AGENT   \n",
       "4   FOREIGN LIMITED LIABILITY COMPANY    06/01/2017      MAILING ADDRESS   \n",
       "\n",
       "  First Name Middle Name Last Name Suffix Not of Record Entity  \\\n",
       "0     THOMAS           J     SAYEG    NaN                  NaN   \n",
       "1    CHARLES           E   HARRELL    NaN                  NaN   \n",
       "2        NaN         NaN       NaN    NaN                  NaN   \n",
       "3       PAUL         NaN   SAMINTO    NaN                  NaN   \n",
       "4        NaN         NaN       NaN    NaN                  NaN   \n",
       "\n",
       "   Entity of Record Reg Number      Entity of Record Name  \\\n",
       "0                          NaN                        NaN   \n",
       "1                          NaN                        NaN   \n",
       "2                  120151394.0  THE HARRELL LAW FIRM, LLC   \n",
       "3                          NaN                        NaN   \n",
       "4                          NaN                        NaN   \n",
       "\n",
       "                           Address            Address Continued  \\\n",
       "0            360 SW BOND ST STE 400                         NaN   \n",
       "1         THE HARRELL LAW FIRM, LLC  11560 SW 67TH AVE STE 353E   \n",
       "2        11560 SW 67TH AVE STE 353E                         NaN   \n",
       "3                     516 SW 4TH ST                         NaN   \n",
       "4  1002 E NEWPORT CENTER DR STE 200                         NaN   \n",
       "\n",
       "              City State Zip Code  \n",
       "0             BEND    OR    97702  \n",
       "1         PORTLAND    OR    97223  \n",
       "2         PORTLAND    OR    97223  \n",
       "3        CORVALLIS    OR    97333  \n",
       "4  DEERFIELD BEACH    FL    33442  "
      ]
     },
     "execution_count": 7,
     "metadata": {},
     "output_type": "execute_result"
    }
   ],
   "source": [
    "df.head()"
   ]
  },
  {
   "cell_type": "code",
   "execution_count": 8,
   "metadata": {},
   "outputs": [],
   "source": [
    "cat_column = lambda x: df[x].astype('category')\n",
    "df[\"Suffix\"] = cat_column(\"Suffix\")\n",
    "stat_df = stat_append(\"Categorized 'Suffix' column\")"
   ]
  },
  {
   "cell_type": "code",
   "execution_count": 9,
   "metadata": {},
   "outputs": [],
   "source": [
    "df[\"Entity Type\"] = cat_column(\"Entity Type\")\n",
    "stat_df = stat_append(\"Categorized 'Entity Type' column\")"
   ]
  },
  {
   "cell_type": "code",
   "execution_count": 10,
   "metadata": {},
   "outputs": [],
   "source": [
    "df[\"Not of Record Entity\"] = cat_column(\"Not of Record Entity\")\n",
    "stat_df = stat_append(\"Categorized 'Not of Record Entity' column\")"
   ]
  },
  {
   "cell_type": "code",
   "execution_count": 11,
   "metadata": {},
   "outputs": [],
   "source": [
    "df[\"State\"] = cat_column(\"State\")\n",
    "stat_df = stat_append(\"Categorized 'State' column\")"
   ]
  },
  {
   "cell_type": "code",
   "execution_count": 12,
   "metadata": {},
   "outputs": [],
   "source": [
    "df[\"City\"] = cat_column(\"City\")\n",
    "stat_df = stat_append(\"Categorized 'City' column\")"
   ]
  },
  {
   "cell_type": "code",
   "execution_count": 13,
   "metadata": {},
   "outputs": [],
   "source": [
    "df[\"Associated Name Type\"] = cat_column(\"Associated Name Type\")\n",
    "stat_df = stat_append(\"Categorized 'Associated Name Type' column\")"
   ]
  },
  {
   "cell_type": "code",
   "execution_count": 14,
   "metadata": {},
   "outputs": [],
   "source": [
    "df[\"Registry Date\"] = cat_column(\"Registry Date\")\n",
    "stat_df = stat_append(\"Categorized 'Registry Date' column\")"
   ]
  },
  {
   "cell_type": "code",
   "execution_count": 15,
   "metadata": {},
   "outputs": [],
   "source": [
    "df[\"Middle Name\"] = cat_column(\"Middle Name\")\n",
    "stat_df = stat_append(\"Categorized 'Middle Name' column\")"
   ]
  },
  {
   "cell_type": "code",
   "execution_count": 16,
   "metadata": {},
   "outputs": [],
   "source": [
    "df[\"Zip Code\"] = cat_column(\"Zip Code\")\n",
    "stat_df = stat_append(\"Categorized 'Zip Code' column\")"
   ]
  },
  {
   "cell_type": "code",
   "execution_count": 17,
   "metadata": {},
   "outputs": [],
   "source": [
    "df[\"First Name\"] = cat_column(\"First Name\")\n",
    "stat_df = stat_append(\"Categorized 'First Name' column\")"
   ]
  },
  {
   "cell_type": "code",
   "execution_count": 18,
   "metadata": {},
   "outputs": [],
   "source": [
    "df = df.astype('category')\n",
    "stat_df = stat_append(\"Categorized everything\")"
   ]
  },
  {
   "cell_type": "code",
   "execution_count": 19,
   "metadata": {},
   "outputs": [
    {
     "data": {
      "text/plain": [
       "<matplotlib.axes._subplots.AxesSubplot at 0x19051e9f0f0>"
      ]
     },
     "execution_count": 19,
     "metadata": {},
     "output_type": "execute_result"
    }
   ],
   "source": [
    "stat_df.plot()"
   ]
  },
  {
   "cell_type": "code",
   "execution_count": 20,
   "metadata": {},
   "outputs": [],
   "source": [
    "# Categorizing by hand was only slightly better than\n",
    "# converting all columns to categories for this table"
   ]
  },
  {
   "cell_type": "code",
   "execution_count": 21,
   "metadata": {},
   "outputs": [],
   "source": [
    "df = df.to_sparse()\n",
    "stat_df = stat_append(\"Categorized everything\")"
   ]
  },
  {
   "cell_type": "code",
   "execution_count": 22,
   "metadata": {},
   "outputs": [
    {
     "data": {
      "text/plain": [
       "<matplotlib.axes._subplots.AxesSubplot at 0x19054090f28>"
      ]
     },
     "execution_count": 22,
     "metadata": {},
     "output_type": "execute_result"
    },
    {
     "data": {
      "image/png": "[encoded data removed]",
      "text/plain": [
       "<Figure size 432x288 with 1 Axes>"
      ]
     },
     "metadata": {},
     "output_type": "display_data"
    }
   ],
   "source": [
    "stat_df.plot()"
   ]
  },
  {
   "cell_type": "code",
   "execution_count": 23,
   "metadata": {},
   "outputs": [],
   "source": [
    "# Converting to a sparse DataFrame is a different story"
   ]
  },
  {
   "cell_type": "code",
   "execution_count": 24,
   "metadata": {},
   "outputs": [],
   "source": [
    "df = pd.read_csv('nbl.csv')"
   ]
  },
  {
   "cell_type": "code",
   "execution_count": 25,
   "metadata": {},
   "outputs": [
    {
     "data": {
      "text/html": [
       "<div>\n",
       "<style scoped>\n",
       "    .dataframe tbody tr th:only-of-type {\n",
       "        vertical-align: middle;\n",
       "    }\n",
       "\n",
       "    .dataframe tbody tr th {\n",
       "        vertical-align: top;\n",
       "    }\n",
       "\n",
       "    .dataframe thead th {\n",
       "        text-align: right;\n",
       "    }\n",
       "</style>\n",
       "<table border=\"1\" class=\"dataframe\">\n",
       "  <thead>\n",
       "    <tr style=\"text-align: right;\">\n",
       "      <th></th>\n",
       "      <th>Registry Number</th>\n",
       "      <th>Business Name</th>\n",
       "      <th>Entity Type</th>\n",
       "      <th>Registry Date</th>\n",
       "      <th>Associated Name Type</th>\n",
       "      <th>First Name</th>\n",
       "      <th>Middle Name</th>\n",
       "      <th>Last Name</th>\n",
       "      <th>Suffix</th>\n",
       "      <th>Not of Record Entity</th>\n",
       "      <th>Entity of Record Reg Number</th>\n",
       "      <th>Entity of Record Name</th>\n",
       "      <th>Address</th>\n",
       "      <th>Address Continued</th>\n",
       "      <th>City</th>\n",
       "      <th>State</th>\n",
       "      <th>Zip Code</th>\n",
       "    </tr>\n",
       "  </thead>\n",
       "  <tbody>\n",
       "    <tr>\n",
       "      <th>0</th>\n",
       "      <td>132996497</td>\n",
       "      <td>2095 LAURA STREET, LLC</td>\n",
       "      <td>DOMESTIC LIMITED LIABILITY COMPANY</td>\n",
       "      <td>06/01/2017</td>\n",
       "      <td>REGISTERED AGENT</td>\n",
       "      <td>THOMAS</td>\n",
       "      <td>J</td>\n",
       "      <td>SAYEG</td>\n",
       "      <td>NaN</td>\n",
       "      <td>NaN</td>\n",
       "      <td>NaN</td>\n",
       "      <td>NaN</td>\n",
       "      <td>360 SW BOND ST STE 400</td>\n",
       "      <td>NaN</td>\n",
       "      <td>BEND</td>\n",
       "      <td>OR</td>\n",
       "      <td>97702</td>\n",
       "    </tr>\n",
       "    <tr>\n",
       "      <th>1</th>\n",
       "      <td>132984691</td>\n",
       "      <td>506GRAND LLC</td>\n",
       "      <td>DOMESTIC LIMITED LIABILITY COMPANY</td>\n",
       "      <td>06/01/2017</td>\n",
       "      <td>MAILING ADDRESS</td>\n",
       "      <td>CHARLES</td>\n",
       "      <td>E</td>\n",
       "      <td>HARRELL</td>\n",
       "      <td>NaN</td>\n",
       "      <td>NaN</td>\n",
       "      <td>NaN</td>\n",
       "      <td>NaN</td>\n",
       "      <td>THE HARRELL LAW FIRM, LLC</td>\n",
       "      <td>11560 SW 67TH AVE STE 353E</td>\n",
       "      <td>PORTLAND</td>\n",
       "      <td>OR</td>\n",
       "      <td>97223</td>\n",
       "    </tr>\n",
       "    <tr>\n",
       "      <th>2</th>\n",
       "      <td>132984691</td>\n",
       "      <td>506GRAND LLC</td>\n",
       "      <td>DOMESTIC LIMITED LIABILITY COMPANY</td>\n",
       "      <td>06/01/2017</td>\n",
       "      <td>REGISTERED AGENT</td>\n",
       "      <td>NaN</td>\n",
       "      <td>NaN</td>\n",
       "      <td>NaN</td>\n",
       "      <td>NaN</td>\n",
       "      <td>NaN</td>\n",
       "      <td>120151394.0</td>\n",
       "      <td>THE HARRELL LAW FIRM, LLC</td>\n",
       "      <td>11560 SW 67TH AVE STE 353E</td>\n",
       "      <td>NaN</td>\n",
       "      <td>PORTLAND</td>\n",
       "      <td>OR</td>\n",
       "      <td>97223</td>\n",
       "    </tr>\n",
       "    <tr>\n",
       "      <th>3</th>\n",
       "      <td>132988890</td>\n",
       "      <td>7+, INC.</td>\n",
       "      <td>DOMESTIC BUSINESS CORPORATION</td>\n",
       "      <td>06/01/2017</td>\n",
       "      <td>REGISTERED AGENT</td>\n",
       "      <td>PAUL</td>\n",
       "      <td>NaN</td>\n",
       "      <td>SAMINTO</td>\n",
       "      <td>NaN</td>\n",
       "      <td>NaN</td>\n",
       "      <td>NaN</td>\n",
       "      <td>NaN</td>\n",
       "      <td>516 SW 4TH ST</td>\n",
       "      <td>NaN</td>\n",
       "      <td>CORVALLIS</td>\n",
       "      <td>OR</td>\n",
       "      <td>97333</td>\n",
       "    </tr>\n",
       "    <tr>\n",
       "      <th>4</th>\n",
       "      <td>133007997</td>\n",
       "      <td>ABS HEALTHCARE SERVICES, LLC</td>\n",
       "      <td>FOREIGN LIMITED LIABILITY COMPANY</td>\n",
       "      <td>06/01/2017</td>\n",
       "      <td>MAILING ADDRESS</td>\n",
       "      <td>NaN</td>\n",
       "      <td>NaN</td>\n",
       "      <td>NaN</td>\n",
       "      <td>NaN</td>\n",
       "      <td>NaN</td>\n",
       "      <td>NaN</td>\n",
       "      <td>NaN</td>\n",
       "      <td>1002 E NEWPORT CENTER DR STE 200</td>\n",
       "      <td>NaN</td>\n",
       "      <td>DEERFIELD BEACH</td>\n",
       "      <td>FL</td>\n",
       "      <td>33442</td>\n",
       "    </tr>\n",
       "  </tbody>\n",
       "</table>\n",
       "</div>"
      ],
      "text/plain": [
       "   Registry Number                 Business Name  \\\n",
       "0        132996497        2095 LAURA STREET, LLC   \n",
       "1        132984691                  506GRAND LLC   \n",
       "2        132984691                  506GRAND LLC   \n",
       "3        132988890                      7+, INC.   \n",
       "4        133007997  ABS HEALTHCARE SERVICES, LLC   \n",
       "\n",
       "                          Entity Type Registry Date Associated Name Type  \\\n",
       "0  DOMESTIC LIMITED LIABILITY COMPANY    06/01/2017     REGISTERED AGENT   \n",
       "1  DOMESTIC LIMITED LIABILITY COMPANY    06/01/2017      MAILING ADDRESS   \n",
       "2  DOMESTIC LIMITED LIABILITY COMPANY    06/01/2017     REGISTERED AGENT   \n",
       "3       DOMESTIC BUSINESS CORPORATION    06/01/2017     REGISTERED AGENT   \n",
       "4   FOREIGN LIMITED LIABILITY COMPANY    06/01/2017      MAILING ADDRESS   \n",
       "\n",
       "  First Name Middle Name Last Name Suffix Not of Record Entity  \\\n",
       "0     THOMAS           J     SAYEG    NaN                  NaN   \n",
       "1    CHARLES           E   HARRELL    NaN                  NaN   \n",
       "2        NaN         NaN       NaN    NaN                  NaN   \n",
       "3       PAUL         NaN   SAMINTO    NaN                  NaN   \n",
       "4        NaN         NaN       NaN    NaN                  NaN   \n",
       "\n",
       "   Entity of Record Reg Number      Entity of Record Name  \\\n",
       "0                          NaN                        NaN   \n",
       "1                          NaN                        NaN   \n",
       "2                  120151394.0  THE HARRELL LAW FIRM, LLC   \n",
       "3                          NaN                        NaN   \n",
       "4                          NaN                        NaN   \n",
       "\n",
       "                           Address            Address Continued  \\\n",
       "0            360 SW BOND ST STE 400                         NaN   \n",
       "1         THE HARRELL LAW FIRM, LLC  11560 SW 67TH AVE STE 353E   \n",
       "2        11560 SW 67TH AVE STE 353E                         NaN   \n",
       "3                     516 SW 4TH ST                         NaN   \n",
       "4  1002 E NEWPORT CENTER DR STE 200                         NaN   \n",
       "\n",
       "              City State Zip Code  \n",
       "0             BEND    OR    97702  \n",
       "1         PORTLAND    OR    97223  \n",
       "2         PORTLAND    OR    97223  \n",
       "3        CORVALLIS    OR    97333  \n",
       "4  DEERFIELD BEACH    FL    33442  "
      ]
     },
     "execution_count": 25,
     "metadata": {},
     "output_type": "execute_result"
    }
   ],
   "source": [
    "df.head()"
   ]
  },
  {
   "cell_type": "code",
   "execution_count": 26,
   "metadata": {},
   "outputs": [],
   "source": [
    "stat_df = pd.DataFrame(\n",
    "    {\n",
    "        \"Size\": [],\n",
    "        \"Alteration\": []\n",
    "    }\n",
    ")\n",
    "stat_append = lambda x: stat_df.append({\"Size\": asizeof(df), \"Alteration\": x}, ignore_index=True)\n",
    "stat_df = stat_append(np.nan)"
   ]
  },
  {
   "cell_type": "code",
   "execution_count": 27,
   "metadata": {},
   "outputs": [],
   "source": [
    "for col in [\"Suffix\", \"Middle Name\", \"Address Continued\", \"Not of Record Entity\"]:\n",
    "    df[col] = df[col].to_sparse()\n",
    "stat_df = stat_append('Columns to sparse')"
   ]
  },
  {
   "cell_type": "code",
   "execution_count": 28,
   "metadata": {},
   "outputs": [],
   "source": [
    "for col in [\"Entity Type\", \"Associated Name Type\", \"State\", \"City\", \"Entity of Record Reg Number\"]:\n",
    "    df[col] = df[col].astype('category')\n",
    "stat_df = stat_append('Columns to category')"
   ]
  },
  {
   "cell_type": "code",
   "execution_count": 30,
   "metadata": {},
   "outputs": [
    {
     "data": {
      "text/html": [
       "<div>\n",
       "<style scoped>\n",
       "    .dataframe tbody tr th:only-of-type {\n",
       "        vertical-align: middle;\n",
       "    }\n",
       "\n",
       "    .dataframe tbody tr th {\n",
       "        vertical-align: top;\n",
       "    }\n",
       "\n",
       "    .dataframe thead th {\n",
       "        text-align: right;\n",
       "    }\n",
       "</style>\n",
       "<table border=\"1\" class=\"dataframe\">\n",
       "  <thead>\n",
       "    <tr style=\"text-align: right;\">\n",
       "      <th></th>\n",
       "      <th>Size</th>\n",
       "      <th>Alteration</th>\n",
       "    </tr>\n",
       "  </thead>\n",
       "  <tbody>\n",
       "    <tr>\n",
       "      <th>0</th>\n",
       "      <td>22657248.0</td>\n",
       "      <td>NaN</td>\n",
       "    </tr>\n",
       "    <tr>\n",
       "      <th>1</th>\n",
       "      <td>19619184.0</td>\n",
       "      <td>Columns to sparse</td>\n",
       "    </tr>\n",
       "    <tr>\n",
       "      <th>2</th>\n",
       "      <td>12664016.0</td>\n",
       "      <td>Columns to category</td>\n",
       "    </tr>\n",
       "  </tbody>\n",
       "</table>\n",
       "</div>"
      ],
      "text/plain": [
       "         Size           Alteration\n",
       "0  22657248.0                  NaN\n",
       "1  19619184.0    Columns to sparse\n",
       "2  12664016.0  Columns to category"
      ]
     },
     "execution_count": 30,
     "metadata": {},
     "output_type": "execute_result"
    }
   ],
   "source": [
    "stat_df"
   ]
  },
  {
   "cell_type": "code",
   "execution_count": null,
   "metadata": {},
   "outputs": [],
   "source": [
    "# Nice!"
   ]
  }
 ],
 "metadata": {
  "kernelspec": {
   "display_name": "Python 3",
   "language": "python",
   "name": "python3"
  },
  "language_info": {
   "codemirror_mode": {
    "name": "ipython",
    "version": 3
   },
   "file_extension": ".py",
   "mimetype": "text/x-python",
   "name": "python",
   "nbconvert_exporter": "python",
   "pygments_lexer": "ipython3",
   "version": "3.7.0"
  }
 },
 "nbformat": 4,
 "nbformat_minor": 2
}
