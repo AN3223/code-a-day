{
 "cells": [
  {
   "cell_type": "code",
   "execution_count": 1,
   "metadata": {},
   "outputs": [],
   "source": [
    "import pandas as pd\n",
    "from pympler.asizeof import asizeof"
   ]
  },
  {
   "cell_type": "code",
   "execution_count": 2,
   "metadata": {},
   "outputs": [],
   "source": [
    "def get_csv():\n",
    "    return pd.read_csv('10000 Sales Records.csv')"
   ]
  },
  {
   "cell_type": "code",
   "execution_count": 3,
   "metadata": {},
   "outputs": [],
   "source": [
    "df = get_csv()"
   ]
  },
  {
   "cell_type": "code",
   "execution_count": 4,
   "metadata": {},
   "outputs": [],
   "source": [
    "df = df.set_index(\"Order Date\").sort_index()  # Setting the index to the Order Date"
   ]
  },
  {
   "cell_type": "code",
   "execution_count": 5,
   "metadata": {},
   "outputs": [
    {
     "data": {
      "text/html": [
       "<div>\n",
       "<style scoped>\n",
       "    .dataframe tbody tr th:only-of-type {\n",
       "        vertical-align: middle;\n",
       "    }\n",
       "\n",
       "    .dataframe tbody tr th {\n",
       "        vertical-align: top;\n",
       "    }\n",
       "\n",
       "    .dataframe thead th {\n",
       "        text-align: right;\n",
       "    }\n",
       "</style>\n",
       "<table border=\"1\" class=\"dataframe\">\n",
       "  <thead>\n",
       "    <tr style=\"text-align: right;\">\n",
       "      <th></th>\n",
       "      <th>Region</th>\n",
       "      <th>Country</th>\n",
       "      <th>Item Type</th>\n",
       "      <th>Sales Channel</th>\n",
       "      <th>Order Priority</th>\n",
       "      <th>Order ID</th>\n",
       "      <th>Ship Date</th>\n",
       "      <th>Units Sold</th>\n",
       "      <th>Unit Price</th>\n",
       "      <th>Unit Cost</th>\n",
       "      <th>Total Revenue</th>\n",
       "      <th>Total Cost</th>\n",
       "      <th>Total Profit</th>\n",
       "    </tr>\n",
       "    <tr>\n",
       "      <th>Order Date</th>\n",
       "      <th></th>\n",
       "      <th></th>\n",
       "      <th></th>\n",
       "      <th></th>\n",
       "      <th></th>\n",
       "      <th></th>\n",
       "      <th></th>\n",
       "      <th></th>\n",
       "      <th></th>\n",
       "      <th></th>\n",
       "      <th></th>\n",
       "      <th></th>\n",
       "      <th></th>\n",
       "    </tr>\n",
       "  </thead>\n",
       "  <tbody>\n",
       "    <tr>\n",
       "      <th>1/1/2010</th>\n",
       "      <td>Sub-Saharan Africa</td>\n",
       "      <td>Central African Republic</td>\n",
       "      <td>Vegetables</td>\n",
       "      <td>Online</td>\n",
       "      <td>H</td>\n",
       "      <td>506209075</td>\n",
       "      <td>2/4/2010</td>\n",
       "      <td>7369</td>\n",
       "      <td>154.06</td>\n",
       "      <td>90.93</td>\n",
       "      <td>1135268.14</td>\n",
       "      <td>670063.17</td>\n",
       "      <td>465204.97</td>\n",
       "    </tr>\n",
       "    <tr>\n",
       "      <th>1/1/2010</th>\n",
       "      <td>Asia</td>\n",
       "      <td>China</td>\n",
       "      <td>Cereal</td>\n",
       "      <td>Online</td>\n",
       "      <td>C</td>\n",
       "      <td>863776719</td>\n",
       "      <td>2/10/2010</td>\n",
       "      <td>9581</td>\n",
       "      <td>205.70</td>\n",
       "      <td>117.11</td>\n",
       "      <td>1970811.70</td>\n",
       "      <td>1122030.91</td>\n",
       "      <td>848780.79</td>\n",
       "    </tr>\n",
       "    <tr>\n",
       "      <th>1/1/2011</th>\n",
       "      <td>Europe</td>\n",
       "      <td>Spain</td>\n",
       "      <td>Household</td>\n",
       "      <td>Online</td>\n",
       "      <td>C</td>\n",
       "      <td>125338399</td>\n",
       "      <td>1/27/2011</td>\n",
       "      <td>9272</td>\n",
       "      <td>668.27</td>\n",
       "      <td>502.54</td>\n",
       "      <td>6196199.44</td>\n",
       "      <td>4659550.88</td>\n",
       "      <td>1536648.56</td>\n",
       "    </tr>\n",
       "    <tr>\n",
       "      <th>1/1/2011</th>\n",
       "      <td>Europe</td>\n",
       "      <td>United Kingdom</td>\n",
       "      <td>Snacks</td>\n",
       "      <td>Online</td>\n",
       "      <td>H</td>\n",
       "      <td>983697640</td>\n",
       "      <td>2/10/2011</td>\n",
       "      <td>6847</td>\n",
       "      <td>152.58</td>\n",
       "      <td>97.44</td>\n",
       "      <td>1044715.26</td>\n",
       "      <td>667171.68</td>\n",
       "      <td>377543.58</td>\n",
       "    </tr>\n",
       "    <tr>\n",
       "      <th>1/1/2011</th>\n",
       "      <td>Europe</td>\n",
       "      <td>Greece</td>\n",
       "      <td>Clothes</td>\n",
       "      <td>Offline</td>\n",
       "      <td>H</td>\n",
       "      <td>992002189</td>\n",
       "      <td>1/13/2011</td>\n",
       "      <td>4347</td>\n",
       "      <td>109.28</td>\n",
       "      <td>35.84</td>\n",
       "      <td>475040.16</td>\n",
       "      <td>155796.48</td>\n",
       "      <td>319243.68</td>\n",
       "    </tr>\n",
       "  </tbody>\n",
       "</table>\n",
       "</div>"
      ],
      "text/plain": [
       "                        Region                   Country   Item Type  \\\n",
       "Order Date                                                             \n",
       "1/1/2010    Sub-Saharan Africa  Central African Republic  Vegetables   \n",
       "1/1/2010                  Asia                     China      Cereal   \n",
       "1/1/2011                Europe                     Spain   Household   \n",
       "1/1/2011                Europe            United Kingdom      Snacks   \n",
       "1/1/2011                Europe                    Greece     Clothes   \n",
       "\n",
       "           Sales Channel Order Priority   Order ID  Ship Date  Units Sold  \\\n",
       "Order Date                                                                  \n",
       "1/1/2010          Online              H  506209075   2/4/2010        7369   \n",
       "1/1/2010          Online              C  863776719  2/10/2010        9581   \n",
       "1/1/2011          Online              C  125338399  1/27/2011        9272   \n",
       "1/1/2011          Online              H  983697640  2/10/2011        6847   \n",
       "1/1/2011         Offline              H  992002189  1/13/2011        4347   \n",
       "\n",
       "            Unit Price  Unit Cost  Total Revenue  Total Cost  Total Profit  \n",
       "Order Date                                                                  \n",
       "1/1/2010        154.06      90.93     1135268.14   670063.17     465204.97  \n",
       "1/1/2010        205.70     117.11     1970811.70  1122030.91     848780.79  \n",
       "1/1/2011        668.27     502.54     6196199.44  4659550.88    1536648.56  \n",
       "1/1/2011        152.58      97.44     1044715.26   667171.68     377543.58  \n",
       "1/1/2011        109.28      35.84      475040.16   155796.48     319243.68  "
      ]
     },
     "execution_count": 5,
     "metadata": {},
     "output_type": "execute_result"
    }
   ],
   "source": [
    "df.head()"
   ]
  },
  {
   "cell_type": "code",
   "execution_count": 6,
   "metadata": {},
   "outputs": [
    {
     "data": {
      "text/html": [
       "<div>\n",
       "<style scoped>\n",
       "    .dataframe tbody tr th:only-of-type {\n",
       "        vertical-align: middle;\n",
       "    }\n",
       "\n",
       "    .dataframe tbody tr th {\n",
       "        vertical-align: top;\n",
       "    }\n",
       "\n",
       "    .dataframe thead th {\n",
       "        text-align: right;\n",
       "    }\n",
       "</style>\n",
       "<table border=\"1\" class=\"dataframe\">\n",
       "  <thead>\n",
       "    <tr style=\"text-align: right;\">\n",
       "      <th></th>\n",
       "      <th>Region</th>\n",
       "      <th>Country</th>\n",
       "      <th>Item Type</th>\n",
       "      <th>Sales Channel</th>\n",
       "      <th>Order Priority</th>\n",
       "      <th>Order ID</th>\n",
       "      <th>Ship Date</th>\n",
       "      <th>Units Sold</th>\n",
       "      <th>Unit Price</th>\n",
       "      <th>Unit Cost</th>\n",
       "      <th>Total Revenue</th>\n",
       "      <th>Total Cost</th>\n",
       "      <th>Total Profit</th>\n",
       "    </tr>\n",
       "    <tr>\n",
       "      <th>Order Date</th>\n",
       "      <th></th>\n",
       "      <th></th>\n",
       "      <th></th>\n",
       "      <th></th>\n",
       "      <th></th>\n",
       "      <th></th>\n",
       "      <th></th>\n",
       "      <th></th>\n",
       "      <th></th>\n",
       "      <th></th>\n",
       "      <th></th>\n",
       "      <th></th>\n",
       "      <th></th>\n",
       "    </tr>\n",
       "  </thead>\n",
       "  <tbody>\n",
       "    <tr>\n",
       "      <th>1/1/2011</th>\n",
       "      <td>Europe</td>\n",
       "      <td>Spain</td>\n",
       "      <td>Household</td>\n",
       "      <td>Online</td>\n",
       "      <td>C</td>\n",
       "      <td>125338399</td>\n",
       "      <td>1/27/2011</td>\n",
       "      <td>9272</td>\n",
       "      <td>668.27</td>\n",
       "      <td>502.54</td>\n",
       "      <td>6196199.44</td>\n",
       "      <td>4659550.88</td>\n",
       "      <td>1536648.56</td>\n",
       "    </tr>\n",
       "    <tr>\n",
       "      <th>1/1/2011</th>\n",
       "      <td>Europe</td>\n",
       "      <td>United Kingdom</td>\n",
       "      <td>Snacks</td>\n",
       "      <td>Online</td>\n",
       "      <td>H</td>\n",
       "      <td>983697640</td>\n",
       "      <td>2/10/2011</td>\n",
       "      <td>6847</td>\n",
       "      <td>152.58</td>\n",
       "      <td>97.44</td>\n",
       "      <td>1044715.26</td>\n",
       "      <td>667171.68</td>\n",
       "      <td>377543.58</td>\n",
       "    </tr>\n",
       "    <tr>\n",
       "      <th>1/1/2011</th>\n",
       "      <td>Europe</td>\n",
       "      <td>Greece</td>\n",
       "      <td>Clothes</td>\n",
       "      <td>Offline</td>\n",
       "      <td>H</td>\n",
       "      <td>992002189</td>\n",
       "      <td>1/13/2011</td>\n",
       "      <td>4347</td>\n",
       "      <td>109.28</td>\n",
       "      <td>35.84</td>\n",
       "      <td>475040.16</td>\n",
       "      <td>155796.48</td>\n",
       "      <td>319243.68</td>\n",
       "    </tr>\n",
       "  </tbody>\n",
       "</table>\n",
       "</div>"
      ],
      "text/plain": [
       "            Region         Country  Item Type Sales Channel Order Priority  \\\n",
       "Order Date                                                                   \n",
       "1/1/2011    Europe           Spain  Household        Online              C   \n",
       "1/1/2011    Europe  United Kingdom     Snacks        Online              H   \n",
       "1/1/2011    Europe          Greece    Clothes       Offline              H   \n",
       "\n",
       "             Order ID  Ship Date  Units Sold  Unit Price  Unit Cost  \\\n",
       "Order Date                                                            \n",
       "1/1/2011    125338399  1/27/2011        9272      668.27     502.54   \n",
       "1/1/2011    983697640  2/10/2011        6847      152.58      97.44   \n",
       "1/1/2011    992002189  1/13/2011        4347      109.28      35.84   \n",
       "\n",
       "            Total Revenue  Total Cost  Total Profit  \n",
       "Order Date                                           \n",
       "1/1/2011       6196199.44  4659550.88    1536648.56  \n",
       "1/1/2011       1044715.26   667171.68     377543.58  \n",
       "1/1/2011        475040.16   155796.48     319243.68  "
      ]
     },
     "execution_count": 6,
     "metadata": {},
     "output_type": "execute_result"
    }
   ],
   "source": [
    "df.loc[\"1/1/2011\"]"
   ]
  },
  {
   "cell_type": "code",
   "execution_count": 7,
   "metadata": {},
   "outputs": [],
   "source": [
    "# Cool. Let's do something more interesting\n",
    "df = get_csv().set_index([\"Country\", \"Item Type\"]).sort_index()"
   ]
  },
  {
   "cell_type": "code",
   "execution_count": 8,
   "metadata": {},
   "outputs": [
    {
     "data": {
      "text/plain": [
       "\"MultiIndex(levels=[['Afghanistan', 'Albania', 'Algeria', 'Andorra', 'Angola', 'Antigua and Barbuda '\\n...\""
      ]
     },
     "execution_count": 8,
     "metadata": {},
     "output_type": "execute_result"
    }
   ],
   "source": [
    "str(df.index)[:100] + '\\n...'  # Shows that this is a MultiIndex, since we have multiple items on each index"
   ]
  },
  {
   "cell_type": "code",
   "execution_count": 9,
   "metadata": {},
   "outputs": [
    {
     "data": {
      "text/html": [
       "<div>\n",
       "<style scoped>\n",
       "    .dataframe tbody tr th:only-of-type {\n",
       "        vertical-align: middle;\n",
       "    }\n",
       "\n",
       "    .dataframe tbody tr th {\n",
       "        vertical-align: top;\n",
       "    }\n",
       "\n",
       "    .dataframe thead th {\n",
       "        text-align: right;\n",
       "    }\n",
       "</style>\n",
       "<table border=\"1\" class=\"dataframe\">\n",
       "  <thead>\n",
       "    <tr style=\"text-align: right;\">\n",
       "      <th></th>\n",
       "      <th></th>\n",
       "      <th>Region</th>\n",
       "      <th>Sales Channel</th>\n",
       "      <th>Order Priority</th>\n",
       "      <th>Order Date</th>\n",
       "      <th>Order ID</th>\n",
       "      <th>Ship Date</th>\n",
       "      <th>Units Sold</th>\n",
       "      <th>Unit Price</th>\n",
       "      <th>Unit Cost</th>\n",
       "      <th>Total Revenue</th>\n",
       "      <th>Total Cost</th>\n",
       "      <th>Total Profit</th>\n",
       "    </tr>\n",
       "    <tr>\n",
       "      <th>Country</th>\n",
       "      <th>Item Type</th>\n",
       "      <th></th>\n",
       "      <th></th>\n",
       "      <th></th>\n",
       "      <th></th>\n",
       "      <th></th>\n",
       "      <th></th>\n",
       "      <th></th>\n",
       "      <th></th>\n",
       "      <th></th>\n",
       "      <th></th>\n",
       "      <th></th>\n",
       "      <th></th>\n",
       "    </tr>\n",
       "  </thead>\n",
       "  <tbody>\n",
       "    <tr>\n",
       "      <th rowspan=\"3\" valign=\"top\">China</th>\n",
       "      <th>Snacks</th>\n",
       "      <td>Asia</td>\n",
       "      <td>Online</td>\n",
       "      <td>C</td>\n",
       "      <td>10/3/2010</td>\n",
       "      <td>143867099</td>\n",
       "      <td>10/12/2010</td>\n",
       "      <td>2326</td>\n",
       "      <td>152.58</td>\n",
       "      <td>97.44</td>\n",
       "      <td>354901.08</td>\n",
       "      <td>226645.44</td>\n",
       "      <td>128255.64</td>\n",
       "    </tr>\n",
       "    <tr>\n",
       "      <th>Snacks</th>\n",
       "      <td>Asia</td>\n",
       "      <td>Offline</td>\n",
       "      <td>C</td>\n",
       "      <td>4/30/2015</td>\n",
       "      <td>989680039</td>\n",
       "      <td>5/31/2015</td>\n",
       "      <td>7171</td>\n",
       "      <td>152.58</td>\n",
       "      <td>97.44</td>\n",
       "      <td>1094151.18</td>\n",
       "      <td>698742.24</td>\n",
       "      <td>395408.94</td>\n",
       "    </tr>\n",
       "    <tr>\n",
       "      <th>Snacks</th>\n",
       "      <td>Asia</td>\n",
       "      <td>Offline</td>\n",
       "      <td>L</td>\n",
       "      <td>10/1/2010</td>\n",
       "      <td>821808946</td>\n",
       "      <td>10/10/2010</td>\n",
       "      <td>384</td>\n",
       "      <td>152.58</td>\n",
       "      <td>97.44</td>\n",
       "      <td>58590.72</td>\n",
       "      <td>37416.96</td>\n",
       "      <td>21173.76</td>\n",
       "    </tr>\n",
       "  </tbody>\n",
       "</table>\n",
       "</div>"
      ],
      "text/plain": [
       "                  Region Sales Channel Order Priority Order Date   Order ID  \\\n",
       "Country Item Type                                                             \n",
       "China   Snacks      Asia        Online              C  10/3/2010  143867099   \n",
       "        Snacks      Asia       Offline              C  4/30/2015  989680039   \n",
       "        Snacks      Asia       Offline              L  10/1/2010  821808946   \n",
       "\n",
       "                    Ship Date  Units Sold  Unit Price  Unit Cost  \\\n",
       "Country Item Type                                                  \n",
       "China   Snacks     10/12/2010        2326      152.58      97.44   \n",
       "        Snacks      5/31/2015        7171      152.58      97.44   \n",
       "        Snacks     10/10/2010         384      152.58      97.44   \n",
       "\n",
       "                   Total Revenue  Total Cost  Total Profit  \n",
       "Country Item Type                                           \n",
       "China   Snacks         354901.08   226645.44     128255.64  \n",
       "        Snacks        1094151.18   698742.24     395408.94  \n",
       "        Snacks          58590.72    37416.96      21173.76  "
      ]
     },
     "execution_count": 9,
     "metadata": {},
     "output_type": "execute_result"
    }
   ],
   "source": [
    "df.loc[\"China\", \"Snacks\"]  # Now we can retrieve every order of a certain item type from a certain country"
   ]
  },
  {
   "cell_type": "code",
   "execution_count": 10,
   "metadata": {},
   "outputs": [
    {
     "data": {
      "text/html": [
       "<div>\n",
       "<style scoped>\n",
       "    .dataframe tbody tr th:only-of-type {\n",
       "        vertical-align: middle;\n",
       "    }\n",
       "\n",
       "    .dataframe tbody tr th {\n",
       "        vertical-align: top;\n",
       "    }\n",
       "\n",
       "    .dataframe thead th {\n",
       "        text-align: right;\n",
       "    }\n",
       "</style>\n",
       "<table border=\"1\" class=\"dataframe\">\n",
       "  <thead>\n",
       "    <tr style=\"text-align: right;\">\n",
       "      <th></th>\n",
       "      <th>Region</th>\n",
       "      <th>Country</th>\n",
       "      <th>Item Type</th>\n",
       "      <th>Sales Channel</th>\n",
       "      <th>Order Priority</th>\n",
       "      <th>Order Date</th>\n",
       "      <th>Order ID</th>\n",
       "      <th>Ship Date</th>\n",
       "      <th>Units Sold</th>\n",
       "      <th>Unit Price</th>\n",
       "      <th>Unit Cost</th>\n",
       "      <th>Total Revenue</th>\n",
       "      <th>Total Cost</th>\n",
       "      <th>Total Profit</th>\n",
       "    </tr>\n",
       "  </thead>\n",
       "  <tbody>\n",
       "    <tr>\n",
       "      <th>1817</th>\n",
       "      <td>Asia</td>\n",
       "      <td>China</td>\n",
       "      <td>Snacks</td>\n",
       "      <td>Online</td>\n",
       "      <td>C</td>\n",
       "      <td>10/3/2010</td>\n",
       "      <td>143867099</td>\n",
       "      <td>10/12/2010</td>\n",
       "      <td>2326</td>\n",
       "      <td>152.58</td>\n",
       "      <td>97.44</td>\n",
       "      <td>354901.08</td>\n",
       "      <td>226645.44</td>\n",
       "      <td>128255.64</td>\n",
       "    </tr>\n",
       "    <tr>\n",
       "      <th>3568</th>\n",
       "      <td>Asia</td>\n",
       "      <td>China</td>\n",
       "      <td>Snacks</td>\n",
       "      <td>Offline</td>\n",
       "      <td>C</td>\n",
       "      <td>4/30/2015</td>\n",
       "      <td>989680039</td>\n",
       "      <td>5/31/2015</td>\n",
       "      <td>7171</td>\n",
       "      <td>152.58</td>\n",
       "      <td>97.44</td>\n",
       "      <td>1094151.18</td>\n",
       "      <td>698742.24</td>\n",
       "      <td>395408.94</td>\n",
       "    </tr>\n",
       "    <tr>\n",
       "      <th>5616</th>\n",
       "      <td>Asia</td>\n",
       "      <td>China</td>\n",
       "      <td>Snacks</td>\n",
       "      <td>Offline</td>\n",
       "      <td>L</td>\n",
       "      <td>10/1/2010</td>\n",
       "      <td>821808946</td>\n",
       "      <td>10/10/2010</td>\n",
       "      <td>384</td>\n",
       "      <td>152.58</td>\n",
       "      <td>97.44</td>\n",
       "      <td>58590.72</td>\n",
       "      <td>37416.96</td>\n",
       "      <td>21173.76</td>\n",
       "    </tr>\n",
       "  </tbody>\n",
       "</table>\n",
       "</div>"
      ],
      "text/plain": [
       "     Region Country Item Type Sales Channel Order Priority Order Date  \\\n",
       "1817   Asia   China    Snacks        Online              C  10/3/2010   \n",
       "3568   Asia   China    Snacks       Offline              C  4/30/2015   \n",
       "5616   Asia   China    Snacks       Offline              L  10/1/2010   \n",
       "\n",
       "       Order ID   Ship Date  Units Sold  Unit Price  Unit Cost  Total Revenue  \\\n",
       "1817  143867099  10/12/2010        2326      152.58      97.44      354901.08   \n",
       "3568  989680039   5/31/2015        7171      152.58      97.44     1094151.18   \n",
       "5616  821808946  10/10/2010         384      152.58      97.44       58590.72   \n",
       "\n",
       "      Total Cost  Total Profit  \n",
       "1817   226645.44     128255.64  \n",
       "3568   698742.24     395408.94  \n",
       "5616    37416.96      21173.76  "
      ]
     },
     "execution_count": 10,
     "metadata": {},
     "output_type": "execute_result"
    }
   ],
   "source": [
    "get_csv().groupby([\"Country\", \"Item Type\"]).get_group((\"China\", \"Snacks\"))\n",
    "# Performs the same operation as before, but the index remains intact"
   ]
  },
  {
   "cell_type": "code",
   "execution_count": 11,
   "metadata": {},
   "outputs": [
    {
     "data": {
      "text/plain": [
       "3.572836612"
      ]
     },
     "execution_count": 11,
     "metadata": {},
     "output_type": "execute_result"
    }
   ],
   "source": [
    "from timeit import timeit\n",
    "setup = \"import pandas as pd\\ndf = pd.read_csv('10000 Sales Records.csv')\"\n",
    "\n",
    "timeit('df.groupby([\"Country\", \"Item Type\"]).get_group((\"China\", \"Snacks\"))',\n",
    "       setup=setup,\n",
    "       number=1000)"
   ]
  },
  {
   "cell_type": "code",
   "execution_count": 12,
   "metadata": {},
   "outputs": [
    {
     "data": {
      "text/plain": [
       "13.625581333"
      ]
     },
     "execution_count": 12,
     "metadata": {},
     "output_type": "execute_result"
    }
   ],
   "source": [
    "timeit('df.set_index([\"Country\", \"Item Type\"]).sort_index().loc[\"China\", \"Snacks\"]',\n",
    "      setup=setup,\n",
    "      number=1000)"
   ]
  },
  {
   "cell_type": "code",
   "execution_count": 13,
   "metadata": {},
   "outputs": [],
   "source": [
    "# On my machine, the grouping example was more than 3 times faster\n",
    "# Regardless, the grouping example seems a lot simpler and easier to follow along"
   ]
  },
  {
   "cell_type": "code",
   "execution_count": 14,
   "metadata": {},
   "outputs": [],
   "source": [
    "df = get_csv()"
   ]
  },
  {
   "cell_type": "code",
   "execution_count": 15,
   "metadata": {},
   "outputs": [],
   "source": [
    "df[\"Item Type\"] = df[\"Item Type\"].astype('category')\n",
    "df[\"Region\"] = df[\"Region\"].astype('category')\n",
    "df[\"Country\"] = df[\"Country\"].astype('category')\n",
    "df[\"Order Priority\"] = df[\"Order Priority\"].astype('category')\n",
    "df[\"Sales Channel\"] = df[\"Sales Channel\"].astype('category')"
   ]
  },
  {
   "cell_type": "code",
   "execution_count": 16,
   "metadata": {},
   "outputs": [
    {
     "data": {
      "text/plain": [
       "6658896"
      ]
     },
     "execution_count": 16,
     "metadata": {},
     "output_type": "execute_result"
    }
   ],
   "source": [
    "df_size = asizeof(df)\n",
    "original_df_size = asizeof(get_csv())\n",
    "original_df_size - df_size"
   ]
  },
  {
   "cell_type": "code",
   "execution_count": 17,
   "metadata": {},
   "outputs": [],
   "source": [
    "# On my machine, the new DataFrame is ~6mb smaller than the original (original was about 10mb)\n",
    "# So it seems categories are more memory efficient in the proper circumstances, just like the docs said\n",
    "# Let's see how our grouping benchmark stacks up now"
   ]
  },
  {
   "cell_type": "code",
   "execution_count": 18,
   "metadata": {},
   "outputs": [],
   "source": [
    "setup += \"\"\"\n",
    "df[\"Item Type\"] = df[\"Item Type\"].astype('category')\n",
    "df[\"Region\"] = df[\"Region\"].astype('category')\n",
    "df[\"Country\"] = df[\"Country\"].astype('category')\n",
    "df[\"Order Priority\"] = df[\"Order Priority\"].astype('category')\n",
    "df[\"Sales Channel\"] = df[\"Sales Channel\"].astype('category')\"\"\""
   ]
  },
  {
   "cell_type": "code",
   "execution_count": 19,
   "metadata": {},
   "outputs": [
    {
     "data": {
      "text/plain": [
       "3.0182341390000005"
      ]
     },
     "execution_count": 19,
     "metadata": {},
     "output_type": "execute_result"
    }
   ],
   "source": [
    "timeit('df.groupby([\"Country\", \"Item Type\"]).get_group((\"China\", \"Snacks\"))',\n",
    "       setup=setup,\n",
    "       number=1000)"
   ]
  },
  {
   "cell_type": "code",
   "execution_count": 21,
   "metadata": {},
   "outputs": [],
   "source": [
    "# Down from 3.7 seconds to 2.8 on my machine. Not bad for such an easy optimization!"
   ]
  },
  {
   "cell_type": "code",
   "execution_count": 24,
   "metadata": {},
   "outputs": [
    {
     "data": {
      "text/plain": [
       "str"
      ]
     },
     "execution_count": 24,
     "metadata": {},
     "output_type": "execute_result"
    }
   ],
   "source": [
    "type(df.loc[0, \"Region\"])\n",
    "# And it seems it's only a category from within Pandas\n",
    "# So we don't have to deal with the conversion ourselves, neat"
   ]
  },
  {
   "cell_type": "code",
   "execution_count": null,
   "metadata": {},
   "outputs": [],
   "source": []
  }
 ],
 "metadata": {
  "kernelspec": {
   "display_name": "Python 3",
   "language": "python",
   "name": "python3"
  },
  "language_info": {
   "codemirror_mode": {
    "name": "ipython",
    "version": 3
   },
   "file_extension": ".py",
   "mimetype": "text/x-python",
   "name": "python",
   "nbconvert_exporter": "python",
   "pygments_lexer": "ipython3",
   "version": "3.7.0"
  }
 },
 "nbformat": 4,
 "nbformat_minor": 2
}
