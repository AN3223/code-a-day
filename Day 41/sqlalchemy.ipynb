{
 "cells": [
  {
   "cell_type": "code",
   "execution_count": 1,
   "metadata": {},
   "outputs": [],
   "source": [
    "from sqlalchemy import create_engine"
   ]
  },
  {
   "cell_type": "code",
   "execution_count": 2,
   "metadata": {},
   "outputs": [
    {
     "data": {
      "text/plain": [
       "Engine(sqlite:///:memory:)"
      ]
     },
     "execution_count": 2,
     "metadata": {},
     "output_type": "execute_result"
    }
   ],
   "source": [
    "engine = create_engine(\"sqlite:///:memory:\", echo=True)\n",
    "# echo=True sets up logging mode for SQLAlchemy\n",
    "engine"
   ]
  },
  {
   "cell_type": "code",
   "execution_count": 3,
   "metadata": {},
   "outputs": [],
   "source": [
    "from sqlalchemy.ext.declarative import declarative_base\n",
    "Base = declarative_base()"
   ]
  },
  {
   "cell_type": "code",
   "execution_count": 4,
   "metadata": {},
   "outputs": [],
   "source": [
    "from sqlalchemy import Column, Integer, String\n",
    "class User(Base):\n",
    "    __tablename__ = \"users\"\n",
    "    \n",
    "    name = Column(String, primary_key=True)\n",
    "    number = Column(Integer)\n",
    "    \n",
    "    def __repr__(self):\n",
    "        return f'User(name={self.name}, number={self.number})'"
   ]
  },
  {
   "cell_type": "code",
   "execution_count": 6,
   "metadata": {},
   "outputs": [
    {
     "name": "stdout",
     "output_type": "stream",
     "text": [
      "2018-08-26 17:32:45,545 INFO sqlalchemy.engine.base.Engine SELECT CAST('test plain returns' AS VARCHAR(60)) AS anon_1\n",
      "2018-08-26 17:32:45,547 INFO sqlalchemy.engine.base.Engine ()\n",
      "2018-08-26 17:32:45,549 INFO sqlalchemy.engine.base.Engine SELECT CAST('test unicode returns' AS VARCHAR(60)) AS anon_1\n",
      "2018-08-26 17:32:45,550 INFO sqlalchemy.engine.base.Engine ()\n",
      "2018-08-26 17:32:45,552 INFO sqlalchemy.engine.base.Engine PRAGMA table_info(\"users\")\n",
      "2018-08-26 17:32:45,554 INFO sqlalchemy.engine.base.Engine ()\n",
      "2018-08-26 17:32:45,556 INFO sqlalchemy.engine.base.Engine \n",
      "CREATE TABLE users (\n",
      "\tname VARCHAR NOT NULL, \n",
      "\tnumber INTEGER, \n",
      "\tPRIMARY KEY (name)\n",
      ")\n",
      "\n",
      "\n",
      "2018-08-26 17:32:45,558 INFO sqlalchemy.engine.base.Engine ()\n",
      "2018-08-26 17:32:45,559 INFO sqlalchemy.engine.base.Engine COMMIT\n"
     ]
    }
   ],
   "source": [
    "Base.metadata.create_all(engine)  # Creates the table"
   ]
  },
  {
   "cell_type": "code",
   "execution_count": 9,
   "metadata": {},
   "outputs": [],
   "source": [
    "jenny = User(name=\"Jenny\", number=8675309)\n",
    "jenny"
   ]
  },
  {
   "cell_type": "code",
   "execution_count": 11,
   "metadata": {},
   "outputs": [
    {
     "data": {
      "text/plain": [
       "'Jenny'"
      ]
     },
     "execution_count": 11,
     "metadata": {},
     "output_type": "execute_result"
    }
   ],
   "source": [
    "jenny.name"
   ]
  },
  {
   "cell_type": "code",
   "execution_count": 12,
   "metadata": {},
   "outputs": [
    {
     "data": {
      "text/plain": [
       "8675309"
      ]
     },
     "execution_count": 12,
     "metadata": {},
     "output_type": "execute_result"
    }
   ],
   "source": [
    "jenny.number"
   ]
  },
  {
   "cell_type": "code",
   "execution_count": 14,
   "metadata": {},
   "outputs": [],
   "source": [
    "from sqlalchemy.orm import sessionmaker\n",
    "Session = sessionmaker(bind=engine)"
   ]
  },
  {
   "cell_type": "code",
   "execution_count": 16,
   "metadata": {},
   "outputs": [],
   "source": [
    "session = Session()\n",
    "session.add(jenny)"
   ]
  },
  {
   "cell_type": "code",
   "execution_count": 17,
   "metadata": {},
   "outputs": [
    {
     "name": "stdout",
     "output_type": "stream",
     "text": [
      "2018-08-26 18:30:15,638 INFO sqlalchemy.engine.base.Engine BEGIN (implicit)\n",
      "2018-08-26 18:30:15,644 INFO sqlalchemy.engine.base.Engine INSERT INTO users (name, number) VALUES (?, ?)\n",
      "2018-08-26 18:30:15,645 INFO sqlalchemy.engine.base.Engine ('Jenny', 8675309)\n",
      "2018-08-26 18:30:15,649 INFO sqlalchemy.engine.base.Engine SELECT users.name AS users_name, users.number AS users_number \n",
      "FROM users \n",
      "WHERE users.name = ?\n",
      " LIMIT ? OFFSET ?\n",
      "2018-08-26 18:30:15,650 INFO sqlalchemy.engine.base.Engine ('Jenny', 1, 0)\n"
     ]
    },
    {
     "data": {
      "text/plain": [
       "User(name=Jenny, number=8675309)"
      ]
     },
     "execution_count": 17,
     "metadata": {},
     "output_type": "execute_result"
    }
   ],
   "source": [
    "jenny_from_db = session.query(User).filter_by(name='Jenny').first()\n",
    "jenny_from_db"
   ]
  },
  {
   "cell_type": "code",
   "execution_count": 18,
   "metadata": {},
   "outputs": [
    {
     "data": {
      "text/plain": [
       "True"
      ]
     },
     "execution_count": 18,
     "metadata": {},
     "output_type": "execute_result"
    }
   ],
   "source": [
    "jenny_from_db is jenny"
   ]
  },
  {
   "cell_type": "code",
   "execution_count": 19,
   "metadata": {},
   "outputs": [
    {
     "name": "stdout",
     "output_type": "stream",
     "text": [
      "2018-08-26 19:29:56,326 INFO sqlalchemy.engine.base.Engine COMMIT\n"
     ]
    }
   ],
   "source": [
    "session.commit()  # Actually inserting our rows into the DB"
   ]
  },
  {
   "cell_type": "code",
   "execution_count": 22,
   "metadata": {},
   "outputs": [
    {
     "data": {
      "text/plain": [
       "IdentitySet([])"
      ]
     },
     "execution_count": 22,
     "metadata": {},
     "output_type": "execute_result"
    }
   ],
   "source": [
    "session.new  # No more items pending"
   ]
  },
  {
   "cell_type": "code",
   "execution_count": 24,
   "metadata": {},
   "outputs": [
    {
     "name": "stdout",
     "output_type": "stream",
     "text": [
      "2018-08-26 19:31:31,288 INFO sqlalchemy.engine.base.Engine BEGIN (implicit)\n",
      "2018-08-26 19:31:31,291 INFO sqlalchemy.engine.base.Engine SELECT users.name AS users_name, users.number AS users_number \n",
      "FROM users \n",
      "WHERE users.name = ?\n",
      " LIMIT ? OFFSET ?\n",
      "2018-08-26 19:31:31,292 INFO sqlalchemy.engine.base.Engine ('Jenny', 1, 0)\n"
     ]
    },
    {
     "data": {
      "text/plain": [
       "User(name=Jenny, number=8675309)"
      ]
     },
     "execution_count": 24,
     "metadata": {},
     "output_type": "execute_result"
    }
   ],
   "source": [
    "session.query(User).filter_by(name=\"Jenny\").first()  # Still retrieves from the DB, behavior remains unchanged"
   ]
  },
  {
   "cell_type": "code",
   "execution_count": null,
   "metadata": {},
   "outputs": [],
   "source": []
  }
 ],
 "metadata": {
  "kernelspec": {
   "display_name": "Python 3",
   "language": "python",
   "name": "python3"
  },
  "language_info": {
   "codemirror_mode": {
    "name": "ipython",
    "version": 3
   },
   "file_extension": ".py",
   "mimetype": "text/x-python",
   "name": "python",
   "nbconvert_exporter": "python",
   "pygments_lexer": "ipython3",
   "version": "3.7.0"
  }
 },
 "nbformat": 4,
 "nbformat_minor": 2
}
